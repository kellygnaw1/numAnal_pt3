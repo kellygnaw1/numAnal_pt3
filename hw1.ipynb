{
 "cells": [
  {
   "cell_type": "markdown",
   "metadata": {},
   "source": [
    "# Math 104C Homework 1\n",
    "**Name.** <span style=\"color:red\">Kelly Wang</span> <br>\n",
    "**Id.** <span style=\"color:red\">5351010</span>\n",
    "\n",
    "## Exercise 1\n",
    "Given the ODE $y' = f(t,y)$, let us construct the interpolating polynomial $p_2(t) \\text{ of } y(t_n-\\Delta t), y(t_n), y(t_n+\\Delta t)$ and approximate $y'(t_n + \\Delta t) \\text{ by } p_2'(t_n + \\Delta t)$ to derive BDF method. We can first use Lagrange Polynomial and then differentiate. <br/><br/>\n",
    "\n",
    "Let k be $\\Delta t$.<br/> \n",
    "$p_2(t)$\n",
    "> $= \\frac{(t-t_j)(t-t_j-k)}{(2k^2)}y(t_j-k) - \\frac{(t-t_j-k)(t-t_j+k)}{k^2} y(t_j) + \\frac{(t-t_j+k)(t-t_j)}{2k^2}y(t_j +k)$ <br/>\n",
    "\n",
    "$p_2'(t_j)$\n",
    "> $= \\frac{(2t-t_j-t_j-k)}{2k^2}y(t_j-k) - \\frac{(2t - t_j - t_j + k)}{k^2}y(t_j) + \\frac{(2t-t_j+k-t_j)}{2k^2}y(t_j+k)$<br/>\n",
    "\n",
    "$p'(t_j + k)$\n",
    "> $= \\frac{(2t_j+2k-2t_j-k)}{2k^2}y(t_j-k) - \\frac{2k}{k^2}y(t_j) + t(\\frac{3k}{2k^2})y(t_j+1)$<br/>\n",
    "\n",
    "$p_2'(t_j+k)$\n",
    "> $= \\frac{y(t_j-k) - 4y(t_j) + 3y(t_j+k)}{2k}$ <br/>\n",
    "\n",
    "Thus we have our desired approximation $\\frac{3y_{n+1} - 4y_n + y_{n-1}}{2\\Delta t} = f(t_{n+1}, y_{n+1})$\n",
    "\n",
    "\n",
    "## Exercise 2\n",
    "To show that the local truncation error of the midpoint method is $O(\\Delta t)^3$, we have $\\tau_{n+1} = y(t_{n+1}) - y(t_n) - \\Delta tf\\left(t_{n+1/2}, y(t_n) + \\frac{\\Delta t}{2}f(t_n, y(t_n))\\right)$ for the explicit <em>midpoint Range-Kutta </em>method. Taylor expanding f around $(t_n, y(t_n))$ we obtain \n",
    "$$\n",
    "\\begin{align}\n",
    "f\\left(t_{n+1/2}, y(t_n)+\\frac{\\Delta t}{2}f(t_n, y(t_n))\\right) &= f(t_n, y(t_n))\\\\\n",
    "&+\\frac{\\Delta t}{2}\\frac{\\partial f}{\\partial t}(t_n, y(t_n))\\\\\n",
    "&+\\frac{\\Delta t}{2}f(t_n, y(t_n))\\frac{\\partial f}{\\partial y}(t_n, y(t_n)) + O(\\Delta t)^2\n",
    "\\end{align}\n",
    "$$\n",
    "But $y' = f, y'' = f'$ and \n",
    "$$f' = \\frac{\\partial f}{\\partial t} + \\frac{\\partial f}{\\partial y}y' = \\frac{\\partial f}{\\partial t} + \\frac{\\partial f}{\\partial y}f$$\n",
    "Therefore \n",
    "$$f\\left(t_{n+1/2}, y(t_n)+\\frac{\\Delta t}{2}f(t_n, y(t_n))\\right) = y'(t_n)+\\frac{1}{2}\\Delta t y''(t_n) + O(\\Delta t)^2$$\n",
    "\n",
    "On the other hand $$y(t_{n+1}) = y(t_n) + \\Delta ty'(t_n) +\\frac{1}{2}(\\Delta t)^2y''(t_n) +O(\\Delta t)^3 \\text{.}$$\n",
    "\n",
    "Substituting the last two formulas with the explicit midpoint Runge-Kutta method we get $\\tau_{n+1} = O(\\Delta t)^3$.\n",
    "\n",
    "## Exercise 3\n",
    "Given the initial value problem \n",
    "$$\\begin{align}\n",
    "y'(t) &= \\frac{3\\cos t}{y^2(t)}, \\quad 0 < t \\leq \\pi ,\\\\\n",
    "y(0) &= 1.\n",
    "\\end{align}$$\n",
    "\n",
    "#### (a) \n",
    "Let $y' = \\frac{dy}{dt}$ we can rewrite the first equation as $\\frac{dy}{dt} = \\frac{3\\cos t}{y^2(t)}$ and integrate.  \n",
    "$$\\begin{align}\n",
    "\\int y^2 dy &= \\int3\\cos t dt\\\\\n",
    "\\frac{y^3}{3} &= 3\\sin t + C\\\\\n",
    "y^3 &= 9\\sin t + C \\quad \\text{let y = 1 and t = 0}\\\\\n",
    "1 &= 9\\sin 0 + C\\\\\n",
    "C &= 1\n",
    "\\end{align}\n",
    "$$\n",
    "From this we have our exact solution as $y(t) = \\sqrt[3]{9\\sin t + 1}$.\n",
    "\n",
    "\n",
    "#### (b), (c)\n",
    "Implementation of Euler's method to find an approximation solution in cell below. "
   ]
  },
  {
   "cell_type": "code",
   "execution_count": 64,
   "metadata": {
    "scrolled": false
   },
   "outputs": [
    {
     "name": "stdout",
     "output_type": "stream",
     "text": [
      "Time Step:  4  Error:  3.141592653589793  Decrease Factor: --  \n",
      "\n",
      "Time Step:  8  Error:  1.3463968515384828  Decrease Factor:  0.42857142857142855 \n",
      "\n",
      "Time Step:  16  Error:  0.6283185307179586  Decrease Factor:  0.4666666666666667 \n",
      "\n",
      "Time Step:  32  Error:  0.3040250955086896  Decrease Factor:  0.48387096774193544 \n",
      "\n",
      "Time Step:  64  Error:  0.14959965017094246  Decrease Factor:  0.49206349206349187 \n",
      "\n",
      "Time Step:  128  Error:  0.07620481090078068  Decrease Factor:  0.5093916383741809 \n",
      "\n"
     ]
    }
   ],
   "source": [
    "import numpy as np \n",
    "from matplotlib import pyplot as plt \n",
    "#interval of (0,pi]\n",
    "t0       = 0\n",
    "y0       = 1\n",
    "tf       = np.pi\n",
    "n        = [4, 8, 16, 32, 64, 128]\n",
    "approx   = []\n",
    "actual_y = []\n",
    "\n",
    "def euler(n):\n",
    "    y      = np.zeros(n)\n",
    "    actual = np.zeros(n)\n",
    "    y[0]   = y0\n",
    "    actual[0] = y0\n",
    "    deltat = (tf - t0)/(n-1)\n",
    "    t      = np.linspace(t0, tf, n)\n",
    "    for i in range(1, n):\n",
    "        y[i]      = deltat*((3*np.cos(t[i-1]))/ y[i-1]**2) + y[i-1]\n",
    "        actual[i] = (9*np.sin(t[i-1])+1)**(1/3)\n",
    "    return y, actual\n",
    "err = []\n",
    "for i in range(len(n)):\n",
    "    approx, actual_y = euler(n[i])\n",
    "    err.append(max(abs(actual_y-approx)))\n",
    "    if i > 0:\n",
    "        factor = err[i]/err[i-1]\n",
    "        print(\"Time Step: \", n[i], \" Error: \", max(abs(actual_y-approx)), \" Decrease Factor: \", factor, '\\n')\n",
    "    else:\n",
    "        print(\"Time Step: \", n[i], \" Error: \", max(abs(actual_y-approx)), \" Decrease Factor: -- \", '\\n')"
   ]
  },
  {
   "cell_type": "code",
   "execution_count": 66,
   "metadata": {},
   "outputs": [
    {
     "name": "stdout",
     "output_type": "stream",
     "text": [
      "Solution for when Delta t = pi/300\n"
     ]
    },
    {
     "data": {
      "image/png": "[encoded data removed]",
      "text/plain": [
       "<Figure size 432x288 with 1 Axes>"
      ]
     },
     "metadata": {
      "needs_background": "light"
     },
     "output_type": "display_data"
    }
   ],
   "source": [
    "import numpy as np \n",
    "from matplotlib import pyplot as plt \n",
    "#interval of (0,pi]\n",
    "t0     = 0\n",
    "y0     = 1\n",
    "tf     = np.pi\n",
    "n      = [4, 8, 16, 32, 64, 128]\n",
    "approx  = []\n",
    "actual_y = []\n",
    "# y      = np.zeros(n)\n",
    "# actual = np.zeros(n)\n",
    "# y[0]   = y0\n",
    "t      = np.linspace(t0, tf, 301)\n",
    "\n",
    "def euler(n):\n",
    "    y      = np.zeros(n)\n",
    "    actual = np.zeros(n)\n",
    "    y[0]   = y0\n",
    "    actual[0] = y0\n",
    "    deltat = (tf - t0)/(n-1)\n",
    "    t      = np.linspace(t0, tf, n)\n",
    "    for i in range(1, n):\n",
    "        y[i]      = deltat*((3*np.cos(t[i-1]))/ y[i-1]**2) + y[i-1]\n",
    "        actual[i] = (9*np.sin(t[i-1])+1)**(1/3)\n",
    "    return y, actual\n",
    "    \n",
    "approx, actual_y = euler(301)\n",
    "    \n",
    "plt.plot(t, actual_y, label = \"actual\")\n",
    "plt.plot(t, approx, label = \"approx\")\n",
    "plt.xlabel(\"t\")\n",
    "plt.ylabel(\"y\")\n",
    "plt.title(\"approx vs actual\")\n",
    "plt.legend()\n",
    "print(\"Solution for when Delta t = pi/300\")"
   ]
  },
  {
   "cell_type": "markdown",
   "metadata": {},
   "source": [
    "## Exercise 4\n",
    "\n",
    "#### (a)\n",
    "Let $u = \\theta'$,<br/> \n",
    "$\\begin{align}\n",
    "0 &= u' + \\gamma u + \\omega^2 \\theta\\\\ \n",
    "-u' &= \\gamma u + \\omega^2 \\theta\n",
    "\\end{align}$\n",
    "\n",
    "Our first order system becomes: <br/> $-u' = -\\gamma u -\\omega^2\\theta\\\\ \\theta' = u$\n",
    "\n",
    "#### (b) \n",
    "We need to find the exact solution of our second order ODE. This will help us find the order of convergence of Eulers Method approximation as well as the plot comparison. <br/>\n",
    "\n",
    "First we want to write out the characteristic polynomial in the form of $ar^2 + br + c = 0$: $r^2 + 0.2r + 4 = 0$ <br/>\n",
    "\n",
    "Now, use quadratic formula to solve for roots: $r = -\\frac{1}{10}\\pm\\frac{\\sqrt{399}}{10}i$<br/>\n",
    "\n",
    "Complex root for characteristics equation: $\\theta = e^{\\lambda t}(c_1\\cos(\\mu t) + _2 \\sin(\\mu t))$ where $\\mu = \\frac{\\sqrt{399}}{10}$ and $\\lambda = -\\frac{1}{10}$.<br/>\n",
    "\n",
    "$$\\begin{align}\n",
    "\\theta(t) &= e^{-\\frac{1}{10}}\\left(c_1\\cos(\\frac{\\sqrt{399}}{10}t)+c_2\\sin(\\frac{\\sqrt{399}}{10}t)\\right)\\\\\n",
    "\\theta'(t) &= -\\frac{1}{10}e^{-\\frac{1}{10}}\\left(c_1\\cos(\\frac{\\sqrt{399}}{10}t) +c_2\\sin(\\frac{\\sqrt{399}}{10}t)\\right)+e^{-\\frac{1}{10}}\\left(-\\frac{\\sqrt{399}}{10}c_1\\sin(\\frac{\\sqrt{399}}{10}t) + \\frac{\\sqrt{399}}{10}c_2\\cos(\\frac{399}{10}t)\\right)\n",
    "\\end{align}\n",
    "$$\n",
    "\n",
    "Give that $\\theta(0) = 1 \\text{and} \\theta'(0) = 1$ we have : \n",
    "$$ c_1 = 1 \\text{ and } c_2 = \\frac{1}{\\sqrt{399}}$$<br/>\n",
    "\n",
    "Thus $\\theta(t) = e^{-\\frac{1}{10}}\\left(\\cos(\\frac{\\sqrt{399}}{10}t) + \\frac{\\sin(\\frac{\\sqrt{399t}}{10})}{\\sqrt{399}}\\right)$"
   ]
  },
  {
   "cell_type": "code",
   "execution_count": 86,
   "metadata": {},
   "outputs": [
    {
     "ename": "ValueError",
     "evalue": "setting an array element with a sequence.",
     "output_type": "error",
     "traceback": [
      "\u001b[0;31m---------------------------------------------------------------------------\u001b[0m",
      "\u001b[0;31mTypeError\u001b[0m                                 Traceback (most recent call last)",
      "\u001b[0;31mTypeError\u001b[0m: only size-1 arrays can be converted to Python scalars",
      "\nThe above exception was the direct cause of the following exception:\n",
      "\u001b[0;31mValueError\u001b[0m                                Traceback (most recent call last)",
      "\u001b[0;32m<ipython-input-86-3f8f7713021f>\u001b[0m in \u001b[0;36m<module>\u001b[0;34m\u001b[0m\n\u001b[1;32m     36\u001b[0m \u001b[0merr\u001b[0m \u001b[0;34m=\u001b[0m \u001b[0;34m[\u001b[0m\u001b[0;34m]\u001b[0m\u001b[0;34m\u001b[0m\u001b[0m\n\u001b[1;32m     37\u001b[0m \u001b[0;32mfor\u001b[0m \u001b[0mi\u001b[0m \u001b[0;32min\u001b[0m \u001b[0mrange\u001b[0m\u001b[0;34m(\u001b[0m\u001b[0mlen\u001b[0m\u001b[0;34m(\u001b[0m\u001b[0mn\u001b[0m\u001b[0;34m)\u001b[0m\u001b[0;34m)\u001b[0m\u001b[0;34m:\u001b[0m\u001b[0;34m\u001b[0m\u001b[0m\n\u001b[0;32m---> 38\u001b[0;31m     \u001b[0mapprox\u001b[0m\u001b[0;34m,\u001b[0m \u001b[0mactual_theta\u001b[0m \u001b[0;34m=\u001b[0m \u001b[0meuler\u001b[0m\u001b[0;34m(\u001b[0m\u001b[0mn\u001b[0m\u001b[0;34m[\u001b[0m\u001b[0mi\u001b[0m\u001b[0;34m]\u001b[0m\u001b[0;34m)\u001b[0m\u001b[0;34m\u001b[0m\u001b[0m\n\u001b[0m\u001b[1;32m     39\u001b[0m     \u001b[0merr\u001b[0m\u001b[0;34m.\u001b[0m\u001b[0mappend\u001b[0m\u001b[0;34m(\u001b[0m\u001b[0mmax\u001b[0m\u001b[0;34m(\u001b[0m\u001b[0mabs\u001b[0m\u001b[0;34m(\u001b[0m\u001b[0mactual_theta\u001b[0m\u001b[0;34m-\u001b[0m\u001b[0mapprox\u001b[0m\u001b[0;34m)\u001b[0m\u001b[0;34m)\u001b[0m\u001b[0;34m)\u001b[0m\u001b[0;34m\u001b[0m\u001b[0m\n\u001b[1;32m     40\u001b[0m     \u001b[0;32mif\u001b[0m \u001b[0mi\u001b[0m \u001b[0;34m>\u001b[0m \u001b[0;36m0\u001b[0m\u001b[0;34m:\u001b[0m\u001b[0;34m\u001b[0m\u001b[0m\n",
      "\u001b[0;32m<ipython-input-86-3f8f7713021f>\u001b[0m in \u001b[0;36meuler\u001b[0;34m(n)\u001b[0m\n\u001b[1;32m     29\u001b[0m         \u001b[0mv2\u001b[0m \u001b[0;34m=\u001b[0m \u001b[0;36m399\u001b[0m\u001b[0;34m/\u001b[0m\u001b[0;36m10.\u001b[0m\u001b[0;34m\u001b[0m\u001b[0m\n\u001b[1;32m     30\u001b[0m         \u001b[0mcoeff\u001b[0m \u001b[0;34m=\u001b[0m \u001b[0;34m(\u001b[0m\u001b[0;34m-\u001b[0m\u001b[0;36m1\u001b[0m\u001b[0;34m/\u001b[0m\u001b[0;36m10.\u001b[0m\u001b[0;34m)\u001b[0m\u001b[0;34m*\u001b[0m\u001b[0mnp\u001b[0m\u001b[0;34m.\u001b[0m\u001b[0mexp\u001b[0m\u001b[0;34m(\u001b[0m\u001b[0;34m-\u001b[0m\u001b[0;36m1\u001b[0m\u001b[0;34m/\u001b[0m\u001b[0;36m10.\u001b[0m\u001b[0;34m)\u001b[0m\u001b[0;34m\u001b[0m\u001b[0m\n\u001b[0;32m---> 31\u001b[0;31m         \u001b[0mactual\u001b[0m\u001b[0;34m[\u001b[0m\u001b[0mi\u001b[0m\u001b[0;34m]\u001b[0m \u001b[0;34m=\u001b[0m \u001b[0mcoeff\u001b[0m\u001b[0;34m*\u001b[0m\u001b[0;34m(\u001b[0m\u001b[0mc_1\u001b[0m\u001b[0;34m*\u001b[0m\u001b[0mnp\u001b[0m\u001b[0;34m.\u001b[0m\u001b[0mcos\u001b[0m\u001b[0;34m(\u001b[0m\u001b[0mv1\u001b[0m \u001b[0;34m*\u001b[0m \u001b[0mt\u001b[0m\u001b[0;34m)\u001b[0m \u001b[0;34m+\u001b[0m \u001b[0mc_2\u001b[0m \u001b[0;34m*\u001b[0m \u001b[0mnp\u001b[0m\u001b[0;34m.\u001b[0m\u001b[0msin\u001b[0m\u001b[0;34m(\u001b[0m\u001b[0mv1\u001b[0m \u001b[0;34m*\u001b[0m \u001b[0mt\u001b[0m\u001b[0;34m)\u001b[0m\u001b[0;34m)\u001b[0m \u001b[0;34m+\u001b[0m \u001b[0mnp\u001b[0m\u001b[0;34m.\u001b[0m\u001b[0mexp\u001b[0m\u001b[0;34m(\u001b[0m\u001b[0;34m-\u001b[0m\u001b[0;36m1\u001b[0m\u001b[0;34m/\u001b[0m\u001b[0;36m10.\u001b[0m\u001b[0;34m)\u001b[0m\u001b[0;34m*\u001b[0m\u001b[0;34m(\u001b[0m\u001b[0;34m-\u001b[0m\u001b[0;36m1\u001b[0m \u001b[0;34m*\u001b[0m \u001b[0mv1\u001b[0m \u001b[0;34m*\u001b[0m \u001b[0mc_1\u001b[0m \u001b[0;34m*\u001b[0m \u001b[0mnp\u001b[0m\u001b[0;34m.\u001b[0m\u001b[0msin\u001b[0m\u001b[0;34m(\u001b[0m\u001b[0mv1\u001b[0m \u001b[0;34m*\u001b[0m \u001b[0mt\u001b[0m\u001b[0;34m)\u001b[0m\u001b[0;34m)\u001b[0m \u001b[0;34m+\u001b[0m \u001b[0mv1\u001b[0m \u001b[0;34m*\u001b[0m \u001b[0mc_2\u001b[0m \u001b[0;34m*\u001b[0m \u001b[0mnp\u001b[0m\u001b[0;34m.\u001b[0m\u001b[0mcos\u001b[0m\u001b[0;34m(\u001b[0m\u001b[0mv2\u001b[0m \u001b[0;34m*\u001b[0m \u001b[0mt\u001b[0m\u001b[0;34m)\u001b[0m\u001b[0;34m\u001b[0m\u001b[0m\n\u001b[0m\u001b[1;32m     32\u001b[0m         \u001b[0mprint\u001b[0m\u001b[0;34m(\u001b[0m\u001b[0mtheta\u001b[0m\u001b[0;34m,\u001b[0m \u001b[0mactual\u001b[0m\u001b[0;34m)\u001b[0m\u001b[0;34m\u001b[0m\u001b[0m\n\u001b[1;32m     33\u001b[0m     \u001b[0;32mreturn\u001b[0m \u001b[0mtheta\u001b[0m\u001b[0;34m,\u001b[0m \u001b[0mactual\u001b[0m\u001b[0;34m\u001b[0m\u001b[0m\n",
      "\u001b[0;31mValueError\u001b[0m: setting an array element with a sequence."
     ]
    }
   ],
   "source": [
    "import numpy as np \n",
    "from matplotlib import pyplot as plt \n",
    "#interval of (0,pi]\n",
    "t0           = 0\n",
    "theta0       = 1\n",
    "u0           = 0\n",
    "tf           = 5\n",
    "n            = [4, 8, 16, 32, 64, 128]\n",
    "approx       = []\n",
    "actual_theta = []\n",
    "t            = np.linspace(t0, tf, 800)\n",
    "\n",
    "def euler(n):\n",
    "    u         = np.zeros(n)\n",
    "    u[0]      = u0\n",
    "    theta     = np.zeros(n)\n",
    "    theta[0]  = theta0\n",
    "    actual    = np.zeros(n)\n",
    "    actual[0] = theta0\n",
    "    deltat    = (tf - t0)/(n-1)\n",
    "    c_1 = 1\n",
    "    c_2 = 1./np.sqrt(399)\n",
    "    for i in range(1, n):\n",
    "        t      = np.linspace(t0, tf, n)\n",
    "        u[i]      = deltat*(-0.2*u[i-1] - 4*theta[i-1]) + u[i-1]\n",
    "        theta[i]  = u[i]\n",
    "        theta[i]  = deltat*(u[i-1])+theta[i-1]\n",
    "        v1 = np.sqrt(399)/10.\n",
    "        v2 = 399/10.\n",
    "        coeff = (-1/10.)*np.exp(-1/10.)\n",
    "        actual[i] = coeff*(c_1*np.cos(v1 * t) + c_2 * np.sin(v1 * t)) + np.exp(-1/10.)*(-1 * v1 * c_1 * np.sin(v1 * t)) + v1 * c_2 * np.cos(v2 * t)\n",
    "        print(theta, actual)\n",
    "    return theta, actual \n",
    "\n",
    "\n",
    "err = []\n",
    "for i in range(len(n)):\n",
    "    approx, actual_theta = euler(n[i])\n",
    "    err.append(max(abs(actual_theta-approx)))\n",
    "    if i > 0:\n",
    "        factor = err[i]/err[i-1]\n",
    "        print(\"Time Step: \", n[i], \" Error: \", max(abs(actual-approx_thetha)), \" Decrease Factor: \", factor, '\\n')\n",
    "    else:\n",
    "        print(\"Time Step: \", n[i], \" Error: \", max(abs(actual-approx_theta)), \" Decrease Factor: -- \", '\\n')"
   ]
  },
  {
   "cell_type": "code",
   "execution_count": null,
   "metadata": {},
   "outputs": [],
   "source": []
  },
  {
   "cell_type": "code",
   "execution_count": null,
   "metadata": {},
   "outputs": [],
   "source": []
  },
  {
   "cell_type": "markdown",
   "metadata": {},
   "source": []
  }
 ],
 "metadata": {
  "kernelspec": {
   "display_name": "Python 3",
   "language": "python",
   "name": "python3"
  },
  "language_info": {
   "codemirror_mode": {
    "name": "ipython",
    "version": 3
   },
   "file_extension": ".py",
   "mimetype": "text/x-python",
   "name": "python",
   "nbconvert_exporter": "python",
   "pygments_lexer": "ipython3",
   "version": "3.6.3"
  }
 },
 "nbformat": 4,
 "nbformat_minor": 4
}
